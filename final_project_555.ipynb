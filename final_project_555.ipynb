{
  "cells": [
    {
      "cell_type": "markdown",
      "source": [
        "#1. Assignment Description\n",
        "\n",
        "Find a dataset for a research problem of interest, here are some good websites for this. Ideally use a dataset where you have a reasonable idea of how it was collected and can comment on the generalizability of the data.\n",
        "Kaggle Data Science Competitions: http://kaggle.com\n",
        "\n",
        "UCI Machine Learning repository: http://archive.ics.uci.edu/ml/datasets.php\n",
        "\n",
        "Google Cloud public data: https://console.cloud.google.com/marketplace/browse?filter=solution-type:dataset&_ga=2.265202890.490000482.1586060190-1118401016.1586060190&pli=1"
      ],
      "metadata": {
        "id": "_94RzPwFMesG"
      }
    },
    {
      "cell_type": "markdown",
      "source": [
        "**Selceted dataset:** Heart Disease Cleveland UCI\n",
        "\n",
        "https://www.kaggle.com/datasets/cherngs/heart-disease-cleveland-uci"
      ],
      "metadata": {
        "id": "O_x_3-x3MwYC"
      }
    },
    {
      "cell_type": "markdown",
      "source": [
        "#2. Research Scenario Description (no more than 200 words)\n",
        "\n",
        "\n",
        "---\n",
        "\n",
        "\n",
        "Give relevant background information so that the reader can understand your research question. Assume that the reader does not have any specialized knowledge about your topic. Define all acronyms/abbreviations and try to avoid jargon. Make sure your research question is focused and answerable using the statistical techniques that you choose.\n",
        "\n",
        "---\n",
        "\n"
      ],
      "metadata": {
        "id": "WN1VKYDO-GBk"
      }
    },
    {
      "cell_type": "markdown",
      "source": [
        "**Reasearch Topic:** *Heart Disease prediction using Statistical analysis*\n",
        "\n",
        "**Discription:** The aim of this analysis is to provide an exploratory analysis of the Heart Disease Dataset in Cleveland, to explore primary insights, show latent relationships as well as provide visuaisations and prediction using Logistic Regression in R statistiscal software."
      ],
      "metadata": {
        "id": "JuhIRtlm-zFh"
      }
    },
    {
      "cell_type": "markdown",
      "source": [
        "#3. Describe the data set (no more than 400 words)\n",
        "\n",
        "\n",
        "---\n",
        "\n",
        "\n",
        " Describe each column of the dataset that are used in your analysis. Clean up your data before usage (e.g. asses and remove outliers, perform any necessary transformations/filtering, check if assumptions of your analysis are met). Remove unused columns. Describe each step of your data cleaning process and why you did this step. If possible,  provide a link to the main data set source.\n",
        "\n",
        "---\n",
        "\n"
      ],
      "metadata": {
        "id": "Dk3ukN5nFVUH"
      }
    },
    {
      "cell_type": "markdown",
      "source": [
        "\n",
        "##Dataset Discription: Heart Disease dataset\n",
        "\n",
        "Dataset Characteristics: *Multivariate*\n",
        "\n",
        "Subject Area: *Life Science*\n",
        "\n",
        "Associated Tasks: *Classification*\n",
        "\n",
        "Attribute Type: *Categorical, Integer, Real*\n",
        "\n",
        "Instances: *303*\n",
        "\n",
        "Attributes: *13*\n",
        "\n",
        "---\n",
        "\n",
        "\n",
        "**There are 13 attributes**\n",
        "\n",
        "\n",
        "---\n",
        "\n",
        "\n",
        "\n",
        "**age:** age in years\n",
        "\n",
        "\n",
        "---\n",
        "\n",
        "\n",
        "**sex:** sex (1 = male; 0 = female)\n",
        "\n",
        "\n",
        "---\n",
        "\n",
        "\n",
        "**cp:** chest pain type\n",
        "\n",
        "-- Value 0: typical angina\n",
        "-- Value 1: atypical angina\n",
        "-- Value 2: non-anginal pain\n",
        "-- Value 3: asymptomatic\n",
        "\n",
        "\n",
        "---\n",
        "\n",
        "\n",
        "trestbps: resting blood pressure (in mm Hg on admission to the hospital)\n",
        "\n",
        "\n",
        "---\n",
        "\n",
        "\n",
        "**chol:** serum cholestoral in mg/dl\n",
        "\n",
        "\n",
        "---\n",
        "\n",
        "\n",
        "**fbs:** (fasting blood sugar > 120 mg/dl) (1 = true; 0 = false)\n",
        "\n",
        "---\n",
        "\n",
        "**restecg:** resting electrocardiographic results\n",
        "-- Value 0: normal\n",
        "-- Value 1: having ST-T wave abnormality (T wave inversions and/or ST elevation or depression of > 0.05 mV)\n",
        "-- Value 2: showing probable or definite left ventricular hypertrophy by Estes' criteria\n",
        "\n",
        "---\n",
        "\n",
        "**thalach:** maximum heart rate achieved\n",
        "\n",
        "---\n",
        "\n",
        "**exang:** exercise induced angina (1 = yes; 0 = no)\n",
        "oldpeak = ST depression induced by exercise relative to rest\n",
        "\n",
        "---\n",
        "\n",
        "**slope:** the slope of the peak exercise ST segment\n",
        "-- Value 0: upsloping\n",
        "-- Value 1: flat\n",
        "-- Value 2: downsloping\n",
        "\n",
        "---\n",
        "\n",
        "**ca:** number of major vessels (0-3) colored by flourosopy\n",
        "\n",
        "---\n",
        "\n",
        "**thal:** 0 = normal; 1 = fixed defect; 2 = reversable defect\n",
        "and the label\n",
        "\n",
        "---\n",
        "\n",
        "**condition:** 0 = no disease, 1 = disease\n",
        "\n",
        "---\n",
        "**Creators:**\n",
        "\n",
        "Hungarian Institute of Cardiology. Budapest: Andras Janosi, M.D.\n",
        "\n",
        "University Hospital, Zurich, Switzerland: William Steinbr\n",
        "\n",
        "**Source---https://www.kaggle.com/datasets/cherngs/heart-disease-cleveland-uci**"
      ],
      "metadata": {
        "id": "te6BnNJvFjL8"
      }
    },
    {
      "cell_type": "markdown",
      "source": [
        "##Package Installation"
      ],
      "metadata": {
        "id": "ELpKr-3D6C3r"
      }
    },
    {
      "cell_type": "code",
      "source": [
        "install.packages(\"pROC\")"
      ],
      "metadata": {
        "colab": {
          "base_uri": "https://localhost:8080/"
        },
        "id": "sBHITkpxsh2s",
        "outputId": "69932baf-948c-4d1f-a461-52a05becb8ac"
      },
      "execution_count": null,
      "outputs": [
        {
          "output_type": "stream",
          "name": "stderr",
          "text": [
            "Installing package into ‘/usr/local/lib/R/site-library’\n",
            "(as ‘lib’ is unspecified)\n",
            "\n"
          ]
        }
      ]
    },
    {
      "cell_type": "code",
      "source": [
        "install.packages(\"data.table\")"
      ],
      "metadata": {
        "id": "SIzVy_M2f9xg",
        "colab": {
          "base_uri": "https://localhost:8080/"
        },
        "outputId": "fe7f7528-0745-43ec-b81c-50caa4583fa6"
      },
      "execution_count": null,
      "outputs": [
        {
          "output_type": "stream",
          "name": "stderr",
          "text": [
            "Installing package into ‘/usr/local/lib/R/site-library’\n",
            "(as ‘lib’ is unspecified)\n",
            "\n",
            "Warning message in install.packages(\"data.table\"):\n",
            "“installation of package ‘data.table’ had non-zero exit status”\n"
          ]
        }
      ]
    },
    {
      "cell_type": "code",
      "source": [
        "install.packages(\"ggplot2\")"
      ],
      "metadata": {
        "id": "f1e2QgfkgwQp",
        "colab": {
          "base_uri": "https://localhost:8080/"
        },
        "outputId": "c1460b90-e8c4-465a-8d86-e3f6248880cf"
      },
      "execution_count": null,
      "outputs": [
        {
          "output_type": "stream",
          "name": "stderr",
          "text": [
            "Installing package into ‘/usr/local/lib/R/site-library’\n",
            "(as ‘lib’ is unspecified)\n",
            "\n",
            "Warning message in install.packages(\"ggplot2\"):\n",
            "“installation of package ‘ggplot2’ had non-zero exit status”\n"
          ]
        }
      ]
    },
    {
      "cell_type": "code",
      "source": [
        "install.packages(\"corrplot\")"
      ],
      "metadata": {
        "id": "nu-ELKukgyWc",
        "colab": {
          "base_uri": "https://localhost:8080/"
        },
        "outputId": "a667d3a2-9acd-45be-cbb4-df99ff4ae557"
      },
      "execution_count": null,
      "outputs": [
        {
          "output_type": "stream",
          "name": "stderr",
          "text": [
            "Installing package into ‘/usr/local/lib/R/site-library’\n",
            "(as ‘lib’ is unspecified)\n",
            "\n",
            "Warning message in install.packages(\"corrplot\"):\n",
            "“installation of package ‘corrplot’ had non-zero exit status”\n"
          ]
        }
      ]
    },
    {
      "cell_type": "code",
      "source": [
        "install.packages(\"tidyverse\")"
      ],
      "metadata": {
        "id": "StUfvs4g6N9j",
        "colab": {
          "base_uri": "https://localhost:8080/"
        },
        "outputId": "28ed07e0-bcd3-4da6-f1c4-43b12ac8fe01"
      },
      "execution_count": null,
      "outputs": [
        {
          "output_type": "stream",
          "name": "stderr",
          "text": [
            "Installing package into ‘/usr/local/lib/R/site-library’\n",
            "(as ‘lib’ is unspecified)\n",
            "\n",
            "Warning message in install.packages(\"tidyverse\"):\n",
            "“installation of package ‘tidyverse’ had non-zero exit status”\n"
          ]
        }
      ]
    },
    {
      "cell_type": "code",
      "source": [
        "install.packages(\"GGally\")"
      ],
      "metadata": {
        "colab": {
          "base_uri": "https://localhost:8080/"
        },
        "id": "d-WKeF5LWov7",
        "outputId": "71c0272b-7cab-4384-97d4-c703a853fac5"
      },
      "execution_count": null,
      "outputs": [
        {
          "output_type": "stream",
          "name": "stderr",
          "text": [
            "Installing package into ‘/usr/local/lib/R/site-library’\n",
            "(as ‘lib’ is unspecified)\n",
            "\n",
            "Warning message in install.packages(\"GGally\"):\n",
            "“installation of package ‘GGally’ had non-zero exit status”\n"
          ]
        }
      ]
    },
    {
      "cell_type": "code",
      "source": [
        "library(tidyverse)\n",
        "library(ggplot2)\n",
        "library(corrplot)\n",
        "library(data.table)\n",
        "library(GGally)\n",
        "library(pROC)\n"
      ],
      "metadata": {
        "_uuid": "051d70d956493feee0c6d64651c6a088724dca2a",
        "_execution_state": "idle",
        "trusted": true,
        "id": "xsya_gGreL-S",
        "colab": {
          "base_uri": "https://localhost:8080/"
        },
        "outputId": "613769e7-032d-4add-eeef-a9359307f572"
      },
      "execution_count": null,
      "outputs": [
        {
          "output_type": "stream",
          "name": "stderr",
          "text": [
            "Type 'citation(\"pROC\")' for a citation.\n",
            "\n",
            "\n",
            "Attaching package: ‘pROC’\n",
            "\n",
            "\n",
            "The following objects are masked from ‘package:stats’:\n",
            "\n",
            "    cov, smooth, var\n",
            "\n",
            "\n"
          ]
        }
      ]
    },
    {
      "cell_type": "markdown",
      "source": [
        "## Load Dataset"
      ],
      "metadata": {
        "id": "tu7YMxmwPD3H"
      }
    },
    {
      "cell_type": "code",
      "source": [
        "data <- read.csv(\"/content/heart_cleveland_upload.csv\", stringsAsFactors = TRUE)\n",
        "raw_data <- data\n",
        "head(data)"
      ],
      "metadata": {
        "colab": {
          "base_uri": "https://localhost:8080/"
        },
        "id": "mU0kXb0-PDOI",
        "outputId": "d76119d5-670b-4560-808f-3efd2f0125b6"
      },
      "execution_count": null,
      "outputs": [
        {
          "output_type": "display_data",
          "data": {
            "text/html": [
              "<table class=\"dataframe\">\n",
              "<caption>A data.frame: 6 × 14</caption>\n",
              "<thead>\n",
              "\t<tr><th></th><th scope=col>age</th><th scope=col>sex</th><th scope=col>cp</th><th scope=col>trestbps</th><th scope=col>chol</th><th scope=col>fbs</th><th scope=col>restecg</th><th scope=col>thalach</th><th scope=col>exang</th><th scope=col>oldpeak</th><th scope=col>slope</th><th scope=col>ca</th><th scope=col>thal</th><th scope=col>condition</th></tr>\n",
              "\t<tr><th></th><th scope=col>&lt;int&gt;</th><th scope=col>&lt;int&gt;</th><th scope=col>&lt;int&gt;</th><th scope=col>&lt;int&gt;</th><th scope=col>&lt;int&gt;</th><th scope=col>&lt;int&gt;</th><th scope=col>&lt;int&gt;</th><th scope=col>&lt;int&gt;</th><th scope=col>&lt;int&gt;</th><th scope=col>&lt;dbl&gt;</th><th scope=col>&lt;int&gt;</th><th scope=col>&lt;int&gt;</th><th scope=col>&lt;int&gt;</th><th scope=col>&lt;int&gt;</th></tr>\n",
              "</thead>\n",
              "<tbody>\n",
              "\t<tr><th scope=row>1</th><td>69</td><td>1</td><td>0</td><td>160</td><td>234</td><td>1</td><td>2</td><td>131</td><td>0</td><td>0.1</td><td>1</td><td>1</td><td>0</td><td>0</td></tr>\n",
              "\t<tr><th scope=row>2</th><td>69</td><td>0</td><td>0</td><td>140</td><td>239</td><td>0</td><td>0</td><td>151</td><td>0</td><td>1.8</td><td>0</td><td>2</td><td>0</td><td>0</td></tr>\n",
              "\t<tr><th scope=row>3</th><td>66</td><td>0</td><td>0</td><td>150</td><td>226</td><td>0</td><td>0</td><td>114</td><td>0</td><td>2.6</td><td>2</td><td>0</td><td>0</td><td>0</td></tr>\n",
              "\t<tr><th scope=row>4</th><td>65</td><td>1</td><td>0</td><td>138</td><td>282</td><td>1</td><td>2</td><td>174</td><td>0</td><td>1.4</td><td>1</td><td>1</td><td>0</td><td>1</td></tr>\n",
              "\t<tr><th scope=row>5</th><td>64</td><td>1</td><td>0</td><td>110</td><td>211</td><td>0</td><td>2</td><td>144</td><td>1</td><td>1.8</td><td>1</td><td>0</td><td>0</td><td>0</td></tr>\n",
              "\t<tr><th scope=row>6</th><td>64</td><td>1</td><td>0</td><td>170</td><td>227</td><td>0</td><td>2</td><td>155</td><td>0</td><td>0.6</td><td>1</td><td>0</td><td>2</td><td>0</td></tr>\n",
              "</tbody>\n",
              "</table>\n"
            ],
            "text/markdown": "\nA data.frame: 6 × 14\n\n| <!--/--> | age &lt;int&gt; | sex &lt;int&gt; | cp &lt;int&gt; | trestbps &lt;int&gt; | chol &lt;int&gt; | fbs &lt;int&gt; | restecg &lt;int&gt; | thalach &lt;int&gt; | exang &lt;int&gt; | oldpeak &lt;dbl&gt; | slope &lt;int&gt; | ca &lt;int&gt; | thal &lt;int&gt; | condition &lt;int&gt; |\n|---|---|---|---|---|---|---|---|---|---|---|---|---|---|---|\n| 1 | 69 | 1 | 0 | 160 | 234 | 1 | 2 | 131 | 0 | 0.1 | 1 | 1 | 0 | 0 |\n| 2 | 69 | 0 | 0 | 140 | 239 | 0 | 0 | 151 | 0 | 1.8 | 0 | 2 | 0 | 0 |\n| 3 | 66 | 0 | 0 | 150 | 226 | 0 | 0 | 114 | 0 | 2.6 | 2 | 0 | 0 | 0 |\n| 4 | 65 | 1 | 0 | 138 | 282 | 1 | 2 | 174 | 0 | 1.4 | 1 | 1 | 0 | 1 |\n| 5 | 64 | 1 | 0 | 110 | 211 | 0 | 2 | 144 | 1 | 1.8 | 1 | 0 | 0 | 0 |\n| 6 | 64 | 1 | 0 | 170 | 227 | 0 | 2 | 155 | 0 | 0.6 | 1 | 0 | 2 | 0 |\n\n",
            "text/latex": "A data.frame: 6 × 14\n\\begin{tabular}{r|llllllllllllll}\n  & age & sex & cp & trestbps & chol & fbs & restecg & thalach & exang & oldpeak & slope & ca & thal & condition\\\\\n  & <int> & <int> & <int> & <int> & <int> & <int> & <int> & <int> & <int> & <dbl> & <int> & <int> & <int> & <int>\\\\\n\\hline\n\t1 & 69 & 1 & 0 & 160 & 234 & 1 & 2 & 131 & 0 & 0.1 & 1 & 1 & 0 & 0\\\\\n\t2 & 69 & 0 & 0 & 140 & 239 & 0 & 0 & 151 & 0 & 1.8 & 0 & 2 & 0 & 0\\\\\n\t3 & 66 & 0 & 0 & 150 & 226 & 0 & 0 & 114 & 0 & 2.6 & 2 & 0 & 0 & 0\\\\\n\t4 & 65 & 1 & 0 & 138 & 282 & 1 & 2 & 174 & 0 & 1.4 & 1 & 1 & 0 & 1\\\\\n\t5 & 64 & 1 & 0 & 110 & 211 & 0 & 2 & 144 & 1 & 1.8 & 1 & 0 & 0 & 0\\\\\n\t6 & 64 & 1 & 0 & 170 & 227 & 0 & 2 & 155 & 0 & 0.6 & 1 & 0 & 2 & 0\\\\\n\\end{tabular}\n",
            "text/plain": [
              "  age sex cp trestbps chol fbs restecg thalach exang oldpeak slope ca thal\n",
              "1 69  1   0  160      234  1   2       131     0     0.1     1     1  0   \n",
              "2 69  0   0  140      239  0   0       151     0     1.8     0     2  0   \n",
              "3 66  0   0  150      226  0   0       114     0     2.6     2     0  0   \n",
              "4 65  1   0  138      282  1   2       174     0     1.4     1     1  0   \n",
              "5 64  1   0  110      211  0   2       144     1     1.8     1     0  0   \n",
              "6 64  1   0  170      227  0   2       155     0     0.6     1     0  2   \n",
              "  condition\n",
              "1 0        \n",
              "2 0        \n",
              "3 0        \n",
              "4 1        \n",
              "5 0        \n",
              "6 0        "
            ]
          },
          "metadata": {}
        }
      ]
    },
    {
      "cell_type": "markdown",
      "metadata": {
        "papermill": {
          "duration": 0.01419,
          "end_time": "2021-02-11T07:50:46.299033",
          "exception": false,
          "start_time": "2021-02-11T07:50:46.284843",
          "status": "completed"
        },
        "tags": [],
        "id": "jlOeghIoL4rb"
      },
      "source": [
        "## Data Cleaning"
      ]
    },
    {
      "cell_type": "code",
      "source": [
        "describe(data)"
      ],
      "metadata": {
        "colab": {
          "base_uri": "https://localhost:8080/",
          "height": 537
        },
        "id": "55NcyDaZXc19",
        "outputId": "a4f5413f-d916-4eac-b0aa-bfcb2ef919be"
      },
      "execution_count": null,
      "outputs": [
        {
          "output_type": "display_data",
          "data": {
            "text/html": [
              "<table class=\"dataframe\">\n",
              "<caption>A psych: 14 × 13</caption>\n",
              "<thead>\n",
              "\t<tr><th></th><th scope=col>vars</th><th scope=col>n</th><th scope=col>mean</th><th scope=col>sd</th><th scope=col>median</th><th scope=col>trimmed</th><th scope=col>mad</th><th scope=col>min</th><th scope=col>max</th><th scope=col>range</th><th scope=col>skew</th><th scope=col>kurtosis</th><th scope=col>se</th></tr>\n",
              "\t<tr><th></th><th scope=col>&lt;int&gt;</th><th scope=col>&lt;dbl&gt;</th><th scope=col>&lt;dbl&gt;</th><th scope=col>&lt;dbl&gt;</th><th scope=col>&lt;dbl&gt;</th><th scope=col>&lt;dbl&gt;</th><th scope=col>&lt;dbl&gt;</th><th scope=col>&lt;dbl&gt;</th><th scope=col>&lt;dbl&gt;</th><th scope=col>&lt;dbl&gt;</th><th scope=col>&lt;dbl&gt;</th><th scope=col>&lt;dbl&gt;</th><th scope=col>&lt;dbl&gt;</th></tr>\n",
              "</thead>\n",
              "<tbody>\n",
              "\t<tr><th scope=row>age</th><td> 1</td><td>297</td><td> 54.5420875</td><td> 9.0497357</td><td> 56.0</td><td> 54.72803347</td><td> 8.89560</td><td> 29</td><td> 77.0</td><td> 48.0</td><td>-0.217559560</td><td>-0.54972943</td><td>0.52511892</td></tr>\n",
              "\t<tr><th scope=row>sex</th><td> 2</td><td>297</td><td>  0.6767677</td><td> 0.4685000</td><td>  1.0</td><td>  0.71966527</td><td> 0.00000</td><td>  0</td><td>  1.0</td><td>  1.0</td><td>-0.752070487</td><td>-1.43920181</td><td>0.02718513</td></tr>\n",
              "\t<tr><th scope=row>cp</th><td> 3</td><td>297</td><td>  2.1582492</td><td> 0.9648594</td><td>  2.0</td><td>  2.29288703</td><td> 1.48260</td><td>  0</td><td>  3.0</td><td>  3.0</td><td>-0.835901980</td><td>-0.44149017</td><td>0.05598682</td></tr>\n",
              "\t<tr><th scope=row>trestbps</th><td> 4</td><td>297</td><td>131.6936027</td><td>17.7628064</td><td>130.0</td><td>130.48117155</td><td>14.82600</td><td> 94</td><td>200.0</td><td>106.0</td><td> 0.693014179</td><td> 0.75577217</td><td>1.03070257</td></tr>\n",
              "\t<tr><th scope=row>chol</th><td> 5</td><td>297</td><td>247.3501684</td><td>51.9975825</td><td>243.0</td><td>244.69874477</td><td>47.44320</td><td>126</td><td>564.0</td><td>438.0</td><td> 1.106826979</td><td> 4.30007077</td><td>3.01720576</td></tr>\n",
              "\t<tr><th scope=row>fbs</th><td> 6</td><td>297</td><td>  0.1447811</td><td> 0.3524739</td><td>  0.0</td><td>  0.05857741</td><td> 0.00000</td><td>  0</td><td>  1.0</td><td>  1.0</td><td> 2.008788724</td><td> 2.04214201</td><td>0.02045261</td></tr>\n",
              "\t<tr><th scope=row>restecg</th><td> 7</td><td>297</td><td>  0.9966330</td><td> 0.9949138</td><td>  1.0</td><td>  0.99581590</td><td> 1.48260</td><td>  0</td><td>  2.0</td><td>  2.0</td><td> 0.006699597</td><td>-1.99311722</td><td>0.05773075</td></tr>\n",
              "\t<tr><th scope=row>thalach</th><td> 8</td><td>297</td><td>149.5993266</td><td>22.9415621</td><td>153.0</td><td>150.91213389</td><td>22.23900</td><td> 71</td><td>202.0</td><td>131.0</td><td>-0.531132648</td><td>-0.09080465</td><td>1.33120445</td></tr>\n",
              "\t<tr><th scope=row>exang</th><td> 9</td><td>297</td><td>  0.3265993</td><td> 0.4697608</td><td>  0.0</td><td>  0.28451883</td><td> 0.00000</td><td>  0</td><td>  1.0</td><td>  1.0</td><td> 0.735765216</td><td>-1.46354333</td><td>0.02725829</td></tr>\n",
              "\t<tr><th scope=row>oldpeak</th><td>10</td><td>297</td><td>  1.0555556</td><td> 1.1661228</td><td>  0.8</td><td>  0.87531381</td><td> 1.18608</td><td>  0</td><td>  6.2</td><td>  6.2</td><td> 1.234562315</td><td> 1.43549954</td><td>0.06766531</td></tr>\n",
              "\t<tr><th scope=row>slope</th><td>11</td><td>297</td><td>  0.6026936</td><td> 0.6181868</td><td>  1.0</td><td>  0.53974895</td><td> 1.48260</td><td>  0</td><td>  2.0</td><td>  2.0</td><td> 0.505299162</td><td>-0.65281225</td><td>0.03587083</td></tr>\n",
              "\t<tr><th scope=row>ca</th><td>12</td><td>297</td><td>  0.6767677</td><td> 0.9389645</td><td>  0.0</td><td>  0.51464435</td><td> 0.00000</td><td>  0</td><td>  3.0</td><td>  3.0</td><td> 1.167659890</td><td> 0.18956971</td><td>0.05448425</td></tr>\n",
              "\t<tr><th scope=row>thal</th><td>13</td><td>297</td><td>  0.8350168</td><td> 0.9566902</td><td>  0.0</td><td>  0.79497908</td><td> 0.00000</td><td>  0</td><td>  2.0</td><td>  2.0</td><td> 0.332323399</td><td>-1.82807764</td><td>0.05551280</td></tr>\n",
              "\t<tr><th scope=row>condition</th><td>14</td><td>297</td><td>  0.4612795</td><td> 0.4993398</td><td>  0.0</td><td>  0.45188285</td><td> 0.00000</td><td>  0</td><td>  1.0</td><td>  1.0</td><td> 0.154564749</td><td>-1.98275170</td><td>0.02897463</td></tr>\n",
              "</tbody>\n",
              "</table>\n"
            ],
            "text/markdown": "\nA psych: 14 × 13\n\n| <!--/--> | vars &lt;int&gt; | n &lt;dbl&gt; | mean &lt;dbl&gt; | sd &lt;dbl&gt; | median &lt;dbl&gt; | trimmed &lt;dbl&gt; | mad &lt;dbl&gt; | min &lt;dbl&gt; | max &lt;dbl&gt; | range &lt;dbl&gt; | skew &lt;dbl&gt; | kurtosis &lt;dbl&gt; | se &lt;dbl&gt; |\n|---|---|---|---|---|---|---|---|---|---|---|---|---|---|\n| age |  1 | 297 |  54.5420875 |  9.0497357 |  56.0 |  54.72803347 |  8.89560 |  29 |  77.0 |  48.0 | -0.217559560 | -0.54972943 | 0.52511892 |\n| sex |  2 | 297 |   0.6767677 |  0.4685000 |   1.0 |   0.71966527 |  0.00000 |   0 |   1.0 |   1.0 | -0.752070487 | -1.43920181 | 0.02718513 |\n| cp |  3 | 297 |   2.1582492 |  0.9648594 |   2.0 |   2.29288703 |  1.48260 |   0 |   3.0 |   3.0 | -0.835901980 | -0.44149017 | 0.05598682 |\n| trestbps |  4 | 297 | 131.6936027 | 17.7628064 | 130.0 | 130.48117155 | 14.82600 |  94 | 200.0 | 106.0 |  0.693014179 |  0.75577217 | 1.03070257 |\n| chol |  5 | 297 | 247.3501684 | 51.9975825 | 243.0 | 244.69874477 | 47.44320 | 126 | 564.0 | 438.0 |  1.106826979 |  4.30007077 | 3.01720576 |\n| fbs |  6 | 297 |   0.1447811 |  0.3524739 |   0.0 |   0.05857741 |  0.00000 |   0 |   1.0 |   1.0 |  2.008788724 |  2.04214201 | 0.02045261 |\n| restecg |  7 | 297 |   0.9966330 |  0.9949138 |   1.0 |   0.99581590 |  1.48260 |   0 |   2.0 |   2.0 |  0.006699597 | -1.99311722 | 0.05773075 |\n| thalach |  8 | 297 | 149.5993266 | 22.9415621 | 153.0 | 150.91213389 | 22.23900 |  71 | 202.0 | 131.0 | -0.531132648 | -0.09080465 | 1.33120445 |\n| exang |  9 | 297 |   0.3265993 |  0.4697608 |   0.0 |   0.28451883 |  0.00000 |   0 |   1.0 |   1.0 |  0.735765216 | -1.46354333 | 0.02725829 |\n| oldpeak | 10 | 297 |   1.0555556 |  1.1661228 |   0.8 |   0.87531381 |  1.18608 |   0 |   6.2 |   6.2 |  1.234562315 |  1.43549954 | 0.06766531 |\n| slope | 11 | 297 |   0.6026936 |  0.6181868 |   1.0 |   0.53974895 |  1.48260 |   0 |   2.0 |   2.0 |  0.505299162 | -0.65281225 | 0.03587083 |\n| ca | 12 | 297 |   0.6767677 |  0.9389645 |   0.0 |   0.51464435 |  0.00000 |   0 |   3.0 |   3.0 |  1.167659890 |  0.18956971 | 0.05448425 |\n| thal | 13 | 297 |   0.8350168 |  0.9566902 |   0.0 |   0.79497908 |  0.00000 |   0 |   2.0 |   2.0 |  0.332323399 | -1.82807764 | 0.05551280 |\n| condition | 14 | 297 |   0.4612795 |  0.4993398 |   0.0 |   0.45188285 |  0.00000 |   0 |   1.0 |   1.0 |  0.154564749 | -1.98275170 | 0.02897463 |\n\n",
            "text/latex": "A psych: 14 × 13\n\\begin{tabular}{r|lllllllllllll}\n  & vars & n & mean & sd & median & trimmed & mad & min & max & range & skew & kurtosis & se\\\\\n  & <int> & <dbl> & <dbl> & <dbl> & <dbl> & <dbl> & <dbl> & <dbl> & <dbl> & <dbl> & <dbl> & <dbl> & <dbl>\\\\\n\\hline\n\tage &  1 & 297 &  54.5420875 &  9.0497357 &  56.0 &  54.72803347 &  8.89560 &  29 &  77.0 &  48.0 & -0.217559560 & -0.54972943 & 0.52511892\\\\\n\tsex &  2 & 297 &   0.6767677 &  0.4685000 &   1.0 &   0.71966527 &  0.00000 &   0 &   1.0 &   1.0 & -0.752070487 & -1.43920181 & 0.02718513\\\\\n\tcp &  3 & 297 &   2.1582492 &  0.9648594 &   2.0 &   2.29288703 &  1.48260 &   0 &   3.0 &   3.0 & -0.835901980 & -0.44149017 & 0.05598682\\\\\n\ttrestbps &  4 & 297 & 131.6936027 & 17.7628064 & 130.0 & 130.48117155 & 14.82600 &  94 & 200.0 & 106.0 &  0.693014179 &  0.75577217 & 1.03070257\\\\\n\tchol &  5 & 297 & 247.3501684 & 51.9975825 & 243.0 & 244.69874477 & 47.44320 & 126 & 564.0 & 438.0 &  1.106826979 &  4.30007077 & 3.01720576\\\\\n\tfbs &  6 & 297 &   0.1447811 &  0.3524739 &   0.0 &   0.05857741 &  0.00000 &   0 &   1.0 &   1.0 &  2.008788724 &  2.04214201 & 0.02045261\\\\\n\trestecg &  7 & 297 &   0.9966330 &  0.9949138 &   1.0 &   0.99581590 &  1.48260 &   0 &   2.0 &   2.0 &  0.006699597 & -1.99311722 & 0.05773075\\\\\n\tthalach &  8 & 297 & 149.5993266 & 22.9415621 & 153.0 & 150.91213389 & 22.23900 &  71 & 202.0 & 131.0 & -0.531132648 & -0.09080465 & 1.33120445\\\\\n\texang &  9 & 297 &   0.3265993 &  0.4697608 &   0.0 &   0.28451883 &  0.00000 &   0 &   1.0 &   1.0 &  0.735765216 & -1.46354333 & 0.02725829\\\\\n\toldpeak & 10 & 297 &   1.0555556 &  1.1661228 &   0.8 &   0.87531381 &  1.18608 &   0 &   6.2 &   6.2 &  1.234562315 &  1.43549954 & 0.06766531\\\\\n\tslope & 11 & 297 &   0.6026936 &  0.6181868 &   1.0 &   0.53974895 &  1.48260 &   0 &   2.0 &   2.0 &  0.505299162 & -0.65281225 & 0.03587083\\\\\n\tca & 12 & 297 &   0.6767677 &  0.9389645 &   0.0 &   0.51464435 &  0.00000 &   0 &   3.0 &   3.0 &  1.167659890 &  0.18956971 & 0.05448425\\\\\n\tthal & 13 & 297 &   0.8350168 &  0.9566902 &   0.0 &   0.79497908 &  0.00000 &   0 &   2.0 &   2.0 &  0.332323399 & -1.82807764 & 0.05551280\\\\\n\tcondition & 14 & 297 &   0.4612795 &  0.4993398 &   0.0 &   0.45188285 &  0.00000 &   0 &   1.0 &   1.0 &  0.154564749 & -1.98275170 & 0.02897463\\\\\n\\end{tabular}\n",
            "text/plain": [
              "          vars n   mean        sd         median trimmed      mad      min\n",
              "age        1   297  54.5420875  9.0497357  56.0   54.72803347  8.89560  29\n",
              "sex        2   297   0.6767677  0.4685000   1.0    0.71966527  0.00000   0\n",
              "cp         3   297   2.1582492  0.9648594   2.0    2.29288703  1.48260   0\n",
              "trestbps   4   297 131.6936027 17.7628064 130.0  130.48117155 14.82600  94\n",
              "chol       5   297 247.3501684 51.9975825 243.0  244.69874477 47.44320 126\n",
              "fbs        6   297   0.1447811  0.3524739   0.0    0.05857741  0.00000   0\n",
              "restecg    7   297   0.9966330  0.9949138   1.0    0.99581590  1.48260   0\n",
              "thalach    8   297 149.5993266 22.9415621 153.0  150.91213389 22.23900  71\n",
              "exang      9   297   0.3265993  0.4697608   0.0    0.28451883  0.00000   0\n",
              "oldpeak   10   297   1.0555556  1.1661228   0.8    0.87531381  1.18608   0\n",
              "slope     11   297   0.6026936  0.6181868   1.0    0.53974895  1.48260   0\n",
              "ca        12   297   0.6767677  0.9389645   0.0    0.51464435  0.00000   0\n",
              "thal      13   297   0.8350168  0.9566902   0.0    0.79497908  0.00000   0\n",
              "condition 14   297   0.4612795  0.4993398   0.0    0.45188285  0.00000   0\n",
              "          max   range skew         kurtosis    se        \n",
              "age        77.0  48.0 -0.217559560 -0.54972943 0.52511892\n",
              "sex         1.0   1.0 -0.752070487 -1.43920181 0.02718513\n",
              "cp          3.0   3.0 -0.835901980 -0.44149017 0.05598682\n",
              "trestbps  200.0 106.0  0.693014179  0.75577217 1.03070257\n",
              "chol      564.0 438.0  1.106826979  4.30007077 3.01720576\n",
              "fbs         1.0   1.0  2.008788724  2.04214201 0.02045261\n",
              "restecg     2.0   2.0  0.006699597 -1.99311722 0.05773075\n",
              "thalach   202.0 131.0 -0.531132648 -0.09080465 1.33120445\n",
              "exang       1.0   1.0  0.735765216 -1.46354333 0.02725829\n",
              "oldpeak     6.2   6.2  1.234562315  1.43549954 0.06766531\n",
              "slope       2.0   2.0  0.505299162 -0.65281225 0.03587083\n",
              "ca          3.0   3.0  1.167659890  0.18956971 0.05448425\n",
              "thal        2.0   2.0  0.332323399 -1.82807764 0.05551280\n",
              "condition   1.0   1.0  0.154564749 -1.98275170 0.02897463"
            ]
          },
          "metadata": {}
        }
      ]
    },
    {
      "cell_type": "code",
      "execution_count": null,
      "metadata": {
        "execution": {
          "iopub.execute_input": "2021-02-11T07:50:46.361199Z",
          "iopub.status.busy": "2021-02-11T07:50:46.359574Z",
          "iopub.status.idle": "2021-02-11T07:50:46.406513Z",
          "shell.execute_reply": "2021-02-11T07:50:46.405096Z"
        },
        "papermill": {
          "duration": 0.065053,
          "end_time": "2021-02-11T07:50:46.406698",
          "exception": false,
          "start_time": "2021-02-11T07:50:46.341645",
          "status": "completed"
        },
        "tags": [],
        "colab": {
          "base_uri": "https://localhost:8080/",
          "height": 34
        },
        "id": "4VkXVLrML4rb",
        "outputId": "54c313f4-94a4-4302-93ff-c965beea3a31"
      },
      "outputs": [
        {
          "output_type": "display_data",
          "data": {
            "text/html": [
              "<style>\n",
              ".dl-inline {width: auto; margin:0; padding: 0}\n",
              ".dl-inline>dt, .dl-inline>dd {float: none; width: auto; display: inline-block}\n",
              ".dl-inline>dt::after {content: \":\\0020\"; padding-right: .5ex}\n",
              ".dl-inline>dt:not(:first-of-type) {padding-left: .5ex}\n",
              "</style><dl class=dl-inline><dt>age</dt><dd>0</dd><dt>sex</dt><dd>0</dd><dt>cp</dt><dd>0</dd><dt>trestbps</dt><dd>0</dd><dt>chol</dt><dd>0</dd><dt>fbs</dt><dd>0</dd><dt>restecg</dt><dd>0</dd><dt>thalach</dt><dd>0</dd><dt>exang</dt><dd>0</dd><dt>oldpeak</dt><dd>0</dd><dt>slope</dt><dd>0</dd><dt>ca</dt><dd>0</dd><dt>thal</dt><dd>0</dd><dt>condition</dt><dd>0</dd></dl>\n"
            ],
            "text/markdown": "age\n:   0sex\n:   0cp\n:   0trestbps\n:   0chol\n:   0fbs\n:   0restecg\n:   0thalach\n:   0exang\n:   0oldpeak\n:   0slope\n:   0ca\n:   0thal\n:   0condition\n:   0\n\n",
            "text/latex": "\\begin{description*}\n\\item[age] 0\n\\item[sex] 0\n\\item[cp] 0\n\\item[trestbps] 0\n\\item[chol] 0\n\\item[fbs] 0\n\\item[restecg] 0\n\\item[thalach] 0\n\\item[exang] 0\n\\item[oldpeak] 0\n\\item[slope] 0\n\\item[ca] 0\n\\item[thal] 0\n\\item[condition] 0\n\\end{description*}\n",
            "text/plain": [
              "      age       sex        cp  trestbps      chol       fbs   restecg   thalach \n",
              "        0         0         0         0         0         0         0         0 \n",
              "    exang   oldpeak     slope        ca      thal condition \n",
              "        0         0         0         0         0         0 "
            ]
          },
          "metadata": {}
        }
      ],
      "source": [
        "## Check for missing Values\n",
        "colSums(is.na(data))"
      ]
    },
    {
      "cell_type": "markdown",
      "metadata": {
        "papermill": {
          "duration": 0.014193,
          "end_time": "2021-02-11T07:50:46.327563",
          "exception": false,
          "start_time": "2021-02-11T07:50:46.313370",
          "status": "completed"
        },
        "tags": [],
        "id": "Eym4pR1oL4rb"
      },
      "source": [
        "Problem: Some variables have been mis-classified as `Intergers`, *Sex*, *fbs*, *condition*"
      ]
    },
    {
      "cell_type": "code",
      "source": [
        "## Correctly convert variables to factors.\n",
        "for (var in names(data)) {\n",
        "  if(length(unique(data[[var]])) < 4) {\n",
        "    data[[var]] <- as.factor(data[[var]])\n",
        "  }\n",
        "}\n",
        "head(data)"
      ],
      "metadata": {
        "colab": {
          "base_uri": "https://localhost:8080/",
          "height": 286
        },
        "id": "VAK24BEZRiEa",
        "outputId": "0ede4cb8-a5cd-4927-d73f-376406da1eea"
      },
      "execution_count": null,
      "outputs": [
        {
          "output_type": "display_data",
          "data": {
            "text/html": [
              "<table class=\"dataframe\">\n",
              "<caption>A data.frame: 6 × 14</caption>\n",
              "<thead>\n",
              "\t<tr><th></th><th scope=col>age</th><th scope=col>sex</th><th scope=col>cp</th><th scope=col>trestbps</th><th scope=col>chol</th><th scope=col>fbs</th><th scope=col>restecg</th><th scope=col>thalach</th><th scope=col>exang</th><th scope=col>oldpeak</th><th scope=col>slope</th><th scope=col>ca</th><th scope=col>thal</th><th scope=col>condition</th></tr>\n",
              "\t<tr><th></th><th scope=col>&lt;int&gt;</th><th scope=col>&lt;fct&gt;</th><th scope=col>&lt;int&gt;</th><th scope=col>&lt;int&gt;</th><th scope=col>&lt;int&gt;</th><th scope=col>&lt;fct&gt;</th><th scope=col>&lt;fct&gt;</th><th scope=col>&lt;int&gt;</th><th scope=col>&lt;fct&gt;</th><th scope=col>&lt;dbl&gt;</th><th scope=col>&lt;fct&gt;</th><th scope=col>&lt;int&gt;</th><th scope=col>&lt;fct&gt;</th><th scope=col>&lt;fct&gt;</th></tr>\n",
              "</thead>\n",
              "<tbody>\n",
              "\t<tr><th scope=row>1</th><td>69</td><td>1</td><td>0</td><td>160</td><td>234</td><td>1</td><td>2</td><td>131</td><td>0</td><td>0.1</td><td>1</td><td>1</td><td>0</td><td>0</td></tr>\n",
              "\t<tr><th scope=row>2</th><td>69</td><td>0</td><td>0</td><td>140</td><td>239</td><td>0</td><td>0</td><td>151</td><td>0</td><td>1.8</td><td>0</td><td>2</td><td>0</td><td>0</td></tr>\n",
              "\t<tr><th scope=row>3</th><td>66</td><td>0</td><td>0</td><td>150</td><td>226</td><td>0</td><td>0</td><td>114</td><td>0</td><td>2.6</td><td>2</td><td>0</td><td>0</td><td>0</td></tr>\n",
              "\t<tr><th scope=row>4</th><td>65</td><td>1</td><td>0</td><td>138</td><td>282</td><td>1</td><td>2</td><td>174</td><td>0</td><td>1.4</td><td>1</td><td>1</td><td>0</td><td>1</td></tr>\n",
              "\t<tr><th scope=row>5</th><td>64</td><td>1</td><td>0</td><td>110</td><td>211</td><td>0</td><td>2</td><td>144</td><td>1</td><td>1.8</td><td>1</td><td>0</td><td>0</td><td>0</td></tr>\n",
              "\t<tr><th scope=row>6</th><td>64</td><td>1</td><td>0</td><td>170</td><td>227</td><td>0</td><td>2</td><td>155</td><td>0</td><td>0.6</td><td>1</td><td>0</td><td>2</td><td>0</td></tr>\n",
              "</tbody>\n",
              "</table>\n"
            ],
            "text/markdown": "\nA data.frame: 6 × 14\n\n| <!--/--> | age &lt;int&gt; | sex &lt;fct&gt; | cp &lt;int&gt; | trestbps &lt;int&gt; | chol &lt;int&gt; | fbs &lt;fct&gt; | restecg &lt;fct&gt; | thalach &lt;int&gt; | exang &lt;fct&gt; | oldpeak &lt;dbl&gt; | slope &lt;fct&gt; | ca &lt;int&gt; | thal &lt;fct&gt; | condition &lt;fct&gt; |\n|---|---|---|---|---|---|---|---|---|---|---|---|---|---|---|\n| 1 | 69 | 1 | 0 | 160 | 234 | 1 | 2 | 131 | 0 | 0.1 | 1 | 1 | 0 | 0 |\n| 2 | 69 | 0 | 0 | 140 | 239 | 0 | 0 | 151 | 0 | 1.8 | 0 | 2 | 0 | 0 |\n| 3 | 66 | 0 | 0 | 150 | 226 | 0 | 0 | 114 | 0 | 2.6 | 2 | 0 | 0 | 0 |\n| 4 | 65 | 1 | 0 | 138 | 282 | 1 | 2 | 174 | 0 | 1.4 | 1 | 1 | 0 | 1 |\n| 5 | 64 | 1 | 0 | 110 | 211 | 0 | 2 | 144 | 1 | 1.8 | 1 | 0 | 0 | 0 |\n| 6 | 64 | 1 | 0 | 170 | 227 | 0 | 2 | 155 | 0 | 0.6 | 1 | 0 | 2 | 0 |\n\n",
            "text/latex": "A data.frame: 6 × 14\n\\begin{tabular}{r|llllllllllllll}\n  & age & sex & cp & trestbps & chol & fbs & restecg & thalach & exang & oldpeak & slope & ca & thal & condition\\\\\n  & <int> & <fct> & <int> & <int> & <int> & <fct> & <fct> & <int> & <fct> & <dbl> & <fct> & <int> & <fct> & <fct>\\\\\n\\hline\n\t1 & 69 & 1 & 0 & 160 & 234 & 1 & 2 & 131 & 0 & 0.1 & 1 & 1 & 0 & 0\\\\\n\t2 & 69 & 0 & 0 & 140 & 239 & 0 & 0 & 151 & 0 & 1.8 & 0 & 2 & 0 & 0\\\\\n\t3 & 66 & 0 & 0 & 150 & 226 & 0 & 0 & 114 & 0 & 2.6 & 2 & 0 & 0 & 0\\\\\n\t4 & 65 & 1 & 0 & 138 & 282 & 1 & 2 & 174 & 0 & 1.4 & 1 & 1 & 0 & 1\\\\\n\t5 & 64 & 1 & 0 & 110 & 211 & 0 & 2 & 144 & 1 & 1.8 & 1 & 0 & 0 & 0\\\\\n\t6 & 64 & 1 & 0 & 170 & 227 & 0 & 2 & 155 & 0 & 0.6 & 1 & 0 & 2 & 0\\\\\n\\end{tabular}\n",
            "text/plain": [
              "  age sex cp trestbps chol fbs restecg thalach exang oldpeak slope ca thal\n",
              "1 69  1   0  160      234  1   2       131     0     0.1     1     1  0   \n",
              "2 69  0   0  140      239  0   0       151     0     1.8     0     2  0   \n",
              "3 66  0   0  150      226  0   0       114     0     2.6     2     0  0   \n",
              "4 65  1   0  138      282  1   2       174     0     1.4     1     1  0   \n",
              "5 64  1   0  110      211  0   2       144     1     1.8     1     0  0   \n",
              "6 64  1   0  170      227  0   2       155     0     0.6     1     0  2   \n",
              "  condition\n",
              "1 0        \n",
              "2 0        \n",
              "3 0        \n",
              "4 1        \n",
              "5 0        \n",
              "6 0        "
            ]
          },
          "metadata": {}
        }
      ]
    },
    {
      "cell_type": "markdown",
      "metadata": {
        "papermill": {
          "duration": 0.015092,
          "end_time": "2021-02-11T07:50:46.444578",
          "exception": false,
          "start_time": "2021-02-11T07:50:46.429486",
          "status": "completed"
        },
        "tags": [],
        "id": "0rsT1x9KL4rb"
      },
      "source": [
        "## Data Visualisations"
      ]
    },
    {
      "cell_type": "code",
      "execution_count": null,
      "metadata": {
        "execution": {
          "iopub.execute_input": "2021-02-11T07:50:46.479986Z",
          "iopub.status.busy": "2021-02-11T07:50:46.478385Z",
          "iopub.status.idle": "2021-02-11T07:50:47.069611Z",
          "shell.execute_reply": "2021-02-11T07:50:47.068070Z"
        },
        "papermill": {
          "duration": 0.610239,
          "end_time": "2021-02-11T07:50:47.069756",
          "exception": false,
          "start_time": "2021-02-11T07:50:46.459517",
          "status": "completed"
        },
        "tags": [],
        "colab": {
          "base_uri": "https://localhost:8080/",
          "height": 437
        },
        "id": "SWRuDEBpL4rb",
        "outputId": "798dee5b-dde5-41da-ae48-87557b965ef5"
      },
      "outputs": [
        {
          "output_type": "display_data",
          "data": {
            "text/plain": [
              "plot without title"
            ],
            "image/png": "[encoded data removed]"
          },
          "metadata": {
            "image/png": {
              "width": 420,
              "height": 420
            }
          }
        }
      ],
      "source": [
        "## Let's take a look at the distribution for our target variable\n",
        "data %>%\n",
        "  ggplot(aes(condition)) +\n",
        "  geom_bar() +\n",
        "  geom_label(stat = \"count\", aes(label = after_stat(count)))"
      ]
    },
    {
      "cell_type": "code",
      "source": [
        "## Let's take a look at the number of males and females in the data\n",
        "data %>%\n",
        "  ggplot(aes(sex)) +\n",
        "  geom_bar() +\n",
        "  geom_label(stat = \"count\", aes(label = after_stat(count)))\n",
        "\n",
        "### Sex: Stacked Bar Chart\n",
        "\n",
        "data %>%\n",
        "  ggplot(aes(x = factor(sex), fill = condition)) +\n",
        "  geom_bar(position = position_dodge(preserve = \"single\")) +\n",
        "  labs(x = \"Heart Disease Outcome\", title = \"Heart Disease Distribution by Sex\") +\n",
        "  geom_label(stat = \"count\", aes(label = ..count..))\n",
        "\n",
        "# 1 = male\n",
        "# 0 = female"
      ],
      "metadata": {
        "colab": {
          "base_uri": "https://localhost:8080/",
          "height": 857
        },
        "id": "CX5SaFFxaqEA",
        "outputId": "9cb4a22f-2c4c-4fbd-b45c-1515f322f527"
      },
      "execution_count": null,
      "outputs": [
        {
          "output_type": "display_data",
          "data": {
            "text/plain": [
              "plot without title"
            ],
            "image/png": "[encoded data removed]"
          },
          "metadata": {
            "image/png": {
              "width": 420,
              "height": 420
            }
          }
        },
        {
          "output_type": "display_data",
          "data": {
            "text/plain": [
              "plot without title"
            ],
            "image/png": "[encoded data removed]"
          },
          "metadata": {
            "image/png": {
              "width": 420,
              "height": 420
            }
          }
        }
      ]
    },
    {
      "cell_type": "markdown",
      "source": [
        "Male:Memale ratio is roughly 2:1"
      ],
      "metadata": {
        "id": "i_7Rehc6cOCr"
      }
    },
    {
      "cell_type": "code",
      "source": [
        "ggplot(data, aes(x = condition, y = trestbps)) +\n",
        "  geom_boxplot() +\n",
        "  ggtitle(\"Box Plot of trestbps by condition\") +\n",
        "  xlab(\"Condition\") +\n",
        "  ylab(\"trestbps\")\n",
        "\n",
        "ggplot(data, aes(x = condition, y = chol)) +\n",
        "  geom_boxplot() +\n",
        "  ggtitle(\"Box Plot of chol by condition\") +\n",
        "  xlab(\"Condition\") +\n",
        "  ylab(\"chol\")\n",
        "\n",
        "ggplot(data, aes(x = condition, y = oldpeak)) +\n",
        "  geom_boxplot() +\n",
        "  ggtitle(\"Box Plot of oldpeak by condition\") +\n",
        "  xlab(\"Condition\") +\n",
        "  ylab(\"oldpeak\")\n",
        "\n",
        "ggplot(data, aes(x = condition, y = thalach)) +\n",
        "  geom_boxplot() +\n",
        "  ggtitle(\"Box Plot of thalach by condition\") +\n",
        "  xlab(\"Condition\") +\n",
        "  ylab(\"thalach\")"
      ],
      "metadata": {
        "colab": {
          "base_uri": "https://localhost:8080/",
          "height": 1000
        },
        "id": "e-3TusQCq_2b",
        "outputId": "c9cd4174-de73-438a-ce20-207c25c790e2"
      },
      "execution_count": null,
      "outputs": [
        {
          "output_type": "display_data",
          "data": {
            "text/plain": [
              "plot without title"
            ],
            "image/png": "[encoded data removed]"
          },
          "metadata": {
            "image/png": {
              "width": 420,
              "height": 420
            }
          }
        },
        {
          "output_type": "display_data",
          "data": {
            "text/plain": [
              "plot without title"
            ],
            "image/png": "[encoded data removed]"
          },
          "metadata": {
            "image/png": {
              "width": 420,
              "height": 420
            }
          }
        },
        {
          "output_type": "display_data",
          "data": {
            "text/plain": [
              "plot without title"
            ],
            "image/png": "[encoded data removed]"
          },
          "metadata": {
            "image/png": {
              "width": 420,
              "height": 420
            }
          }
        },
        {
          "output_type": "display_data",
          "data": {
            "text/plain": [
              "plot without title"
            ],
            "image/png": "[encoded data removed]"
          },
          "metadata": {
            "image/png": {
              "width": 420,
              "height": 420
            }
          }
        }
      ]
    },
    {
      "cell_type": "markdown",
      "metadata": {
        "papermill": {
          "duration": 0.01585,
          "end_time": "2021-02-11T07:50:47.101742",
          "exception": false,
          "start_time": "2021-02-11T07:50:47.085892",
          "status": "completed"
        },
        "tags": [],
        "id": "T-muNHlzL4rb"
      },
      "source": [
        "### Numerical or Catagorical\n",
        "\n",
        "We check variables if they are Numerical or Catagorical"
      ]
    },
    {
      "cell_type": "code",
      "execution_count": null,
      "metadata": {
        "execution": {
          "iopub.execute_input": "2021-02-11T07:50:47.139755Z",
          "iopub.status.busy": "2021-02-11T07:50:47.138152Z",
          "iopub.status.idle": "2021-02-11T07:50:47.163703Z",
          "shell.execute_reply": "2021-02-11T07:50:47.162246Z"
        },
        "papermill": {
          "duration": 0.04591,
          "end_time": "2021-02-11T07:50:47.163842",
          "exception": false,
          "start_time": "2021-02-11T07:50:47.117932",
          "status": "completed"
        },
        "tags": [],
        "colab": {
          "base_uri": "https://localhost:8080/",
          "height": 159
        },
        "id": "O8O-n63DL4rb",
        "outputId": "7b82420c-91e5-4d0c-affb-357ba05fd159"
      },
      "outputs": [
        {
          "output_type": "stream",
          "name": "stdout",
          "text": [
            "There are 7 numeric variables, and 7 categoric variables \n",
            "\n",
            "\n",
            " Numerical variables are:\n"
          ]
        },
        {
          "output_type": "display_data",
          "data": {
            "text/html": [
              "<style>\n",
              ".list-inline {list-style: none; margin:0; padding: 0}\n",
              ".list-inline>li {display: inline-block}\n",
              ".list-inline>li:not(:last-child)::after {content: \"\\00b7\"; padding: 0 .5ex}\n",
              "</style>\n",
              "<ol class=list-inline><li>'age'</li><li>'cp'</li><li>'trestbps'</li><li>'chol'</li><li>'thalach'</li><li>'oldpeak'</li><li>'ca'</li></ol>\n"
            ],
            "text/markdown": "1. 'age'\n2. 'cp'\n3. 'trestbps'\n4. 'chol'\n5. 'thalach'\n6. 'oldpeak'\n7. 'ca'\n\n\n",
            "text/latex": "\\begin{enumerate*}\n\\item 'age'\n\\item 'cp'\n\\item 'trestbps'\n\\item 'chol'\n\\item 'thalach'\n\\item 'oldpeak'\n\\item 'ca'\n\\end{enumerate*}\n",
            "text/plain": [
              "[1] \"age\"      \"cp\"       \"trestbps\" \"chol\"     \"thalach\"  \"oldpeak\"  \"ca\"      "
            ]
          },
          "metadata": {}
        },
        {
          "output_type": "stream",
          "name": "stdout",
          "text": [
            "\n",
            " Catagorical variables are:\n"
          ]
        },
        {
          "output_type": "display_data",
          "data": {
            "text/html": [
              "<style>\n",
              ".list-inline {list-style: none; margin:0; padding: 0}\n",
              ".list-inline>li {display: inline-block}\n",
              ".list-inline>li:not(:last-child)::after {content: \"\\00b7\"; padding: 0 .5ex}\n",
              "</style>\n",
              "<ol class=list-inline><li>'sex'</li><li>'fbs'</li><li>'restecg'</li><li>'exang'</li><li>'slope'</li><li>'thal'</li><li>'condition'</li></ol>\n"
            ],
            "text/markdown": "1. 'sex'\n2. 'fbs'\n3. 'restecg'\n4. 'exang'\n5. 'slope'\n6. 'thal'\n7. 'condition'\n\n\n",
            "text/latex": "\\begin{enumerate*}\n\\item 'sex'\n\\item 'fbs'\n\\item 'restecg'\n\\item 'exang'\n\\item 'slope'\n\\item 'thal'\n\\item 'condition'\n\\end{enumerate*}\n",
            "text/plain": [
              "[1] \"sex\"       \"fbs\"       \"restecg\"   \"exang\"     \"slope\"     \"thal\"     \n",
              "[7] \"condition\""
            ]
          },
          "metadata": {}
        }
      ],
      "source": [
        "numericVars <- which(sapply(data, is.numeric))\n",
        "\n",
        "factorVars <- which(sapply(data, is.factor))\n",
        "\n",
        "cat('There are', length(numericVars), 'numeric variables, and', length(factorVars), 'categoric variables',\"\\n\\n\")\n",
        "cat(\"\\n Numerical variables are:\\n\")\n",
        "names(numericVars)\n",
        "cat(\"\\n Catagorical variables are:\\n\")\n",
        "names(factorVars)"
      ]
    },
    {
      "cell_type": "markdown",
      "source": [
        "## Correlation Plot on Numerical data"
      ],
      "metadata": {
        "id": "Gqvb9cJ6VsUz"
      }
    },
    {
      "cell_type": "code",
      "source": [
        "# Plotting the correlation of the variables excluding Target variable\n",
        "\n",
        "numericVars <- select_if(data, is.numeric) # select only Column-set numeric vars\n",
        "corr <- cor(numericVars, use = \"pairwise.complete.obs\")\n",
        "round(corr, 2)\n",
        "\n",
        "## Correlation Visualisation\n",
        "library(ggcorrplot)\n",
        "\n",
        "ggcorrplot(corr,\n",
        "           hc.order = TRUE, # reorders the variables, placing variables with similar correlation patterns together.\n",
        "           type = \"lower\", lab = TRUE)"
      ],
      "metadata": {
        "colab": {
          "base_uri": "https://localhost:8080/",
          "height": 706
        },
        "id": "ihm695MFVvO3",
        "outputId": "c2ac0693-523d-4c51-d4c3-bb81f896803a"
      },
      "execution_count": null,
      "outputs": [
        {
          "output_type": "display_data",
          "data": {
            "text/html": [
              "<table class=\"dataframe\">\n",
              "<caption>A matrix: 7 × 7 of type dbl</caption>\n",
              "<thead>\n",
              "\t<tr><th></th><th scope=col>age</th><th scope=col>cp</th><th scope=col>trestbps</th><th scope=col>chol</th><th scope=col>thalach</th><th scope=col>oldpeak</th><th scope=col>ca</th></tr>\n",
              "</thead>\n",
              "<tbody>\n",
              "\t<tr><th scope=row>age</th><td> 1.00</td><td> 0.11</td><td> 0.29</td><td>0.20</td><td>-0.39</td><td> 0.20</td><td> 0.36</td></tr>\n",
              "\t<tr><th scope=row>cp</th><td> 0.11</td><td> 1.00</td><td>-0.04</td><td>0.07</td><td>-0.34</td><td> 0.20</td><td> 0.24</td></tr>\n",
              "\t<tr><th scope=row>trestbps</th><td> 0.29</td><td>-0.04</td><td> 1.00</td><td>0.13</td><td>-0.05</td><td> 0.19</td><td> 0.10</td></tr>\n",
              "\t<tr><th scope=row>chol</th><td> 0.20</td><td> 0.07</td><td> 0.13</td><td>1.00</td><td> 0.00</td><td> 0.04</td><td> 0.12</td></tr>\n",
              "\t<tr><th scope=row>thalach</th><td>-0.39</td><td>-0.34</td><td>-0.05</td><td>0.00</td><td> 1.00</td><td>-0.35</td><td>-0.27</td></tr>\n",
              "\t<tr><th scope=row>oldpeak</th><td> 0.20</td><td> 0.20</td><td> 0.19</td><td>0.04</td><td>-0.35</td><td> 1.00</td><td> 0.29</td></tr>\n",
              "\t<tr><th scope=row>ca</th><td> 0.36</td><td> 0.24</td><td> 0.10</td><td>0.12</td><td>-0.27</td><td> 0.29</td><td> 1.00</td></tr>\n",
              "</tbody>\n",
              "</table>\n"
            ],
            "text/markdown": "\nA matrix: 7 × 7 of type dbl\n\n| <!--/--> | age | cp | trestbps | chol | thalach | oldpeak | ca |\n|---|---|---|---|---|---|---|---|\n| age |  1.00 |  0.11 |  0.29 | 0.20 | -0.39 |  0.20 |  0.36 |\n| cp |  0.11 |  1.00 | -0.04 | 0.07 | -0.34 |  0.20 |  0.24 |\n| trestbps |  0.29 | -0.04 |  1.00 | 0.13 | -0.05 |  0.19 |  0.10 |\n| chol |  0.20 |  0.07 |  0.13 | 1.00 |  0.00 |  0.04 |  0.12 |\n| thalach | -0.39 | -0.34 | -0.05 | 0.00 |  1.00 | -0.35 | -0.27 |\n| oldpeak |  0.20 |  0.20 |  0.19 | 0.04 | -0.35 |  1.00 |  0.29 |\n| ca |  0.36 |  0.24 |  0.10 | 0.12 | -0.27 |  0.29 |  1.00 |\n\n",
            "text/latex": "A matrix: 7 × 7 of type dbl\n\\begin{tabular}{r|lllllll}\n  & age & cp & trestbps & chol & thalach & oldpeak & ca\\\\\n\\hline\n\tage &  1.00 &  0.11 &  0.29 & 0.20 & -0.39 &  0.20 &  0.36\\\\\n\tcp &  0.11 &  1.00 & -0.04 & 0.07 & -0.34 &  0.20 &  0.24\\\\\n\ttrestbps &  0.29 & -0.04 &  1.00 & 0.13 & -0.05 &  0.19 &  0.10\\\\\n\tchol &  0.20 &  0.07 &  0.13 & 1.00 &  0.00 &  0.04 &  0.12\\\\\n\tthalach & -0.39 & -0.34 & -0.05 & 0.00 &  1.00 & -0.35 & -0.27\\\\\n\toldpeak &  0.20 &  0.20 &  0.19 & 0.04 & -0.35 &  1.00 &  0.29\\\\\n\tca &  0.36 &  0.24 &  0.10 & 0.12 & -0.27 &  0.29 &  1.00\\\\\n\\end{tabular}\n",
            "text/plain": [
              "         age   cp    trestbps chol thalach oldpeak ca   \n",
              "age       1.00  0.11  0.29    0.20 -0.39    0.20    0.36\n",
              "cp        0.11  1.00 -0.04    0.07 -0.34    0.20    0.24\n",
              "trestbps  0.29 -0.04  1.00    0.13 -0.05    0.19    0.10\n",
              "chol      0.20  0.07  0.13    1.00  0.00    0.04    0.12\n",
              "thalach  -0.39 -0.34 -0.05    0.00  1.00   -0.35   -0.27\n",
              "oldpeak   0.20  0.20  0.19    0.04 -0.35    1.00    0.29\n",
              "ca        0.36  0.24  0.10    0.12 -0.27    0.29    1.00"
            ]
          },
          "metadata": {}
        },
        {
          "output_type": "display_data",
          "data": {
            "text/plain": [
              "plot without title"
            ],
            "image/png": "[encoded data removed]"
          },
          "metadata": {
            "image/png": {
              "width": 420,
              "height": 420
            }
          }
        }
      ]
    },
    {
      "cell_type": "markdown",
      "source": [
        "#4. Research Question (no more than 100 words)\n",
        "\n",
        "The main research question of this analysis is to determine the feasibility of predicting heart disease in the Cleveland dataset through exploratory analysis, and utilizing Logistic Regression for predictive modeling in R statistical software."
      ],
      "metadata": {
        "id": "skt1Hf70Nmlb"
      }
    },
    {
      "cell_type": "markdown",
      "source": [
        "**Splitting**\n",
        "In this process a split data will be carried out between the data train and the data test for prediction."
      ],
      "metadata": {
        "id": "H3vu9JlvlyHX"
      }
    },
    {
      "cell_type": "code",
      "source": [
        "split <- sample.split(data$condition, SplitRatio = 0.8)\n",
        "train <- subset(data, split == TRUE)\n",
        "test <- subset(data, split == FALSE)\n",
        "\n",
        "print(\"Train set\")\n",
        "dim(train)\n",
        "print(\"Test set\")\n",
        "dim(test)"
      ],
      "metadata": {
        "colab": {
          "base_uri": "https://localhost:8080/",
          "height": 87
        },
        "id": "o2qfp5XvjWOz",
        "outputId": "366c4201-0c24-4a7e-bf2b-16033cb1f483"
      },
      "execution_count": null,
      "outputs": [
        {
          "output_type": "stream",
          "name": "stdout",
          "text": [
            "[1] \"Train set\"\n"
          ]
        },
        {
          "output_type": "display_data",
          "data": {
            "text/html": [
              "<style>\n",
              ".list-inline {list-style: none; margin:0; padding: 0}\n",
              ".list-inline>li {display: inline-block}\n",
              ".list-inline>li:not(:last-child)::after {content: \"\\00b7\"; padding: 0 .5ex}\n",
              "</style>\n",
              "<ol class=list-inline><li>238</li><li>14</li></ol>\n"
            ],
            "text/markdown": "1. 238\n2. 14\n\n\n",
            "text/latex": "\\begin{enumerate*}\n\\item 238\n\\item 14\n\\end{enumerate*}\n",
            "text/plain": [
              "[1] 238  14"
            ]
          },
          "metadata": {}
        },
        {
          "output_type": "stream",
          "name": "stdout",
          "text": [
            "[1] \"Test set\"\n"
          ]
        },
        {
          "output_type": "display_data",
          "data": {
            "text/html": [
              "<style>\n",
              ".list-inline {list-style: none; margin:0; padding: 0}\n",
              ".list-inline>li {display: inline-block}\n",
              ".list-inline>li:not(:last-child)::after {content: \"\\00b7\"; padding: 0 .5ex}\n",
              "</style>\n",
              "<ol class=list-inline><li>59</li><li>14</li></ol>\n"
            ],
            "text/markdown": "1. 59\n2. 14\n\n\n",
            "text/latex": "\\begin{enumerate*}\n\\item 59\n\\item 14\n\\end{enumerate*}\n",
            "text/plain": [
              "[1] 59 14"
            ]
          },
          "metadata": {}
        }
      ]
    },
    {
      "cell_type": "markdown",
      "source": [
        "\n",
        "**Logistic Regression Model**\n"
      ],
      "metadata": {
        "id": "6pS9TxjbXK6W"
      }
    },
    {
      "cell_type": "code",
      "execution_count": null,
      "metadata": {
        "execution": {
          "iopub.execute_input": "2021-02-11T07:50:48.945927Z",
          "iopub.status.busy": "2021-02-11T07:50:48.944385Z",
          "iopub.status.idle": "2021-02-11T07:50:48.972133Z",
          "shell.execute_reply": "2021-02-11T07:50:48.971162Z"
        },
        "papermill": {
          "duration": 0.054363,
          "end_time": "2021-02-11T07:50:48.972280",
          "exception": false,
          "start_time": "2021-02-11T07:50:48.917917",
          "status": "completed"
        },
        "tags": [],
        "colab": {
          "base_uri": "https://localhost:8080/",
          "height": 303
        },
        "id": "0BIHWH0SL4rd",
        "outputId": "cf3d1ece-06f6-45bf-ff52-0b0f7c904643"
      },
      "outputs": [
        {
          "output_type": "display_data",
          "data": {
            "text/plain": [
              "\n",
              "Call:  glm(formula = condition ~ age + cp + trestbps + chol + thalach + \n",
              "    oldpeak + ca + sex + fbs + restecg + exang + slope + thal, \n",
              "    family = binomial, data = train)\n",
              "\n",
              "Coefficients:\n",
              "(Intercept)          age           cp     trestbps         chol      thalach  \n",
              "  -4.889720    -0.008390     0.577864     0.021992     0.003405    -0.020115  \n",
              "    oldpeak           ca         sex1         fbs1     restecg1     restecg2  \n",
              "   0.244670     1.015112     1.465562    -0.777427     0.375332     0.591765  \n",
              "     exang1       slope1       slope2        thal1        thal2  \n",
              "   1.085237     0.873428     0.222601     0.734117     1.099820  \n",
              "\n",
              "Degrees of Freedom: 237 Total (i.e. Null);  221 Residual\n",
              "Null Deviance:\t    328.6 \n",
              "Residual Deviance: 169.7 \tAIC: 203.7"
            ]
          },
          "metadata": {}
        }
      ],
      "source": [
        "## Fit the Logistic Regression Model\n",
        "\n",
        "glm_heart <- glm(condition ~ age + cp + trestbps + chol + thalach + oldpeak + ca +\n",
        "              sex + fbs + restecg + exang + slope + thal,\n",
        "            family = binomial, data = train)\n",
        "\n",
        "## Check\n",
        "glm_heart"
      ]
    },
    {
      "cell_type": "code",
      "source": [
        "# Make Predictions on test data\n",
        "pred <- ifelse(predict(glm_heart, newdata = test, type = \"response\") >= 0.5, 1, 0)"
      ],
      "metadata": {
        "id": "5Hy5HerppPKp"
      },
      "execution_count": null,
      "outputs": []
    },
    {
      "cell_type": "code",
      "source": [
        "# Actual class\n",
        "actual <- test$condition\n",
        "head(actual)"
      ],
      "metadata": {
        "colab": {
          "base_uri": "https://localhost:8080/",
          "height": 52
        },
        "id": "BigJZLNenuQ5",
        "outputId": "64600cdb-7af4-4fd8-eee6-be7d8cb8ad70"
      },
      "execution_count": null,
      "outputs": [
        {
          "output_type": "display_data",
          "data": {
            "text/html": [
              "<style>\n",
              ".list-inline {list-style: none; margin:0; padding: 0}\n",
              ".list-inline>li {display: inline-block}\n",
              ".list-inline>li:not(:last-child)::after {content: \"\\00b7\"; padding: 0 .5ex}\n",
              "</style>\n",
              "<ol class=list-inline><li>0</li><li>1</li><li>0</li><li>0</li><li>0</li><li>0</li></ol>\n",
              "\n",
              "<details>\n",
              "\t<summary style=display:list-item;cursor:pointer>\n",
              "\t\t<strong>Levels</strong>:\n",
              "\t</summary>\n",
              "\t<style>\n",
              "\t.list-inline {list-style: none; margin:0; padding: 0}\n",
              "\t.list-inline>li {display: inline-block}\n",
              "\t.list-inline>li:not(:last-child)::after {content: \"\\00b7\"; padding: 0 .5ex}\n",
              "\t</style>\n",
              "\t<ol class=list-inline><li>'0'</li><li>'1'</li></ol>\n",
              "</details>"
            ],
            "text/markdown": "1. 0\n2. 1\n3. 0\n4. 0\n5. 0\n6. 0\n\n\n\n**Levels**: 1. '0'\n2. '1'\n\n\n",
            "text/latex": "\\begin{enumerate*}\n\\item 0\n\\item 1\n\\item 0\n\\item 0\n\\item 0\n\\item 0\n\\end{enumerate*}\n\n\\emph{Levels}: \\begin{enumerate*}\n\\item '0'\n\\item '1'\n\\end{enumerate*}\n",
            "text/plain": [
              "[1] 0 1 0 0 0 0\n",
              "Levels: 0 1"
            ]
          },
          "metadata": {}
        }
      ]
    },
    {
      "cell_type": "markdown",
      "source": [
        "**Evaluations :**"
      ],
      "metadata": {
        "id": "SETi-h6xXS2J"
      }
    },
    {
      "cell_type": "code",
      "source": [
        "\n",
        "# Create a confusion matrix\n",
        "table.binomial.logit <- table(actual, pred)\n",
        "\n",
        "# Calculate accuracy\n",
        "accuracy.binomial.logit <- sum(diag(table.binomial.logit)) / sum(table.binomial.logit) * 100\n",
        "\n",
        "# Print predictions, confusion matrix, and accuracy\n",
        "head(pred)\n",
        "print(table.binomial.logit)\n",
        "print(paste(\"Accuracy is\", accuracy.binomial.logit))\n"
      ],
      "metadata": {
        "colab": {
          "base_uri": "https://localhost:8080/",
          "height": 124
        },
        "id": "O7cUs2aRm444",
        "outputId": "ae133f44-7a06-40ab-d9de-52e913157cf5"
      },
      "execution_count": null,
      "outputs": [
        {
          "output_type": "display_data",
          "data": {
            "text/html": [
              "<style>\n",
              ".dl-inline {width: auto; margin:0; padding: 0}\n",
              ".dl-inline>dt, .dl-inline>dd {float: none; width: auto; display: inline-block}\n",
              ".dl-inline>dt::after {content: \":\\0020\"; padding-right: .5ex}\n",
              ".dl-inline>dt:not(:first-of-type) {padding-left: .5ex}\n",
              "</style><dl class=dl-inline><dt>21</dt><dd>0</dd><dt>36</dt><dd>0</dd><dt>37</dt><dd>0</dd><dt>40</dt><dd>0</dd><dt>41</dt><dd>0</dd><dt>54</dt><dd>0</dd></dl>\n"
            ],
            "text/markdown": "21\n:   036\n:   037\n:   040\n:   041\n:   054\n:   0\n\n",
            "text/latex": "\\begin{description*}\n\\item[21] 0\n\\item[36] 0\n\\item[37] 0\n\\item[40] 0\n\\item[41] 0\n\\item[54] 0\n\\end{description*}\n",
            "text/plain": [
              "21 36 37 40 41 54 \n",
              " 0  0  0  0  0  0 "
            ]
          },
          "metadata": {}
        },
        {
          "output_type": "stream",
          "name": "stdout",
          "text": [
            "      pred\n",
            "actual  0  1\n",
            "     0 27  5\n",
            "     1  2 25\n",
            "[1] \"Accuracy is 88.135593220339\"\n"
          ]
        }
      ]
    },
    {
      "cell_type": "code",
      "source": [
        "\n",
        "# Calculate sensitivity\n",
        "tp <- table.binomial.logit[2, 2]\n",
        "fn <- table.binomial.logit[2, 1]\n",
        "sensitivity <- tp / (tp + fn)\n",
        "\n",
        "# Print sensitivity\n",
        "print(paste(\"Model sensitivity is\", sensitivity))\n",
        "\n",
        "# Calculate specificity\n",
        "tn <- table.binomial.logit[1, 1]\n",
        "fp <- table.binomial.logit[1, 2]\n",
        "specificity <- tn / (tn + fp)\n",
        "\n",
        "# Print specificity\n",
        "print(paste(\"Model specificity is\", specificity))"
      ],
      "metadata": {
        "colab": {
          "base_uri": "https://localhost:8080/"
        },
        "id": "eE3_l_6Pqa_b",
        "outputId": "33a1418c-82d6-47b2-eb18-db6cdda5fe3d"
      },
      "execution_count": null,
      "outputs": [
        {
          "output_type": "stream",
          "name": "stdout",
          "text": [
            "[1] \"Model sensitivity is 0.925925925925926\"\n",
            "[1] \"Model specificity is 0.84375\"\n"
          ]
        }
      ]
    },
    {
      "cell_type": "markdown",
      "source": [
        "#5. Statistical Analysis\n",
        "\n",
        "Give at least one main visualization (with axes labeled, a relevant title, and readable fonts) that supports your conclusion. Be sure to avoid common mistakes when generating visualizations. State all assumptions of the statistical technique(s) that you are using and give evidence (if possible) or an argument as to whether these assumptions are met."
      ],
      "metadata": {
        "id": "LGh7djpYNs-a"
      }
    },
    {
      "cell_type": "code",
      "source": [
        "values <- as.numeric(pred)\n",
        "names(values) <- NULL  # Remove names if needed\n",
        "table(values == test$condition)"
      ],
      "metadata": {
        "colab": {
          "base_uri": "https://localhost:8080/",
          "height": 71
        },
        "id": "o5YYIvjILGaT",
        "outputId": "5c8eb4c5-db75-4555-b47a-5c70228da92c"
      },
      "execution_count": null,
      "outputs": [
        {
          "output_type": "display_data",
          "data": {
            "text/plain": [
              "\n",
              "FALSE  TRUE \n",
              "    7    52 "
            ]
          },
          "metadata": {}
        }
      ]
    },
    {
      "cell_type": "code",
      "source": [
        "# Calculate ROC curve\n",
        "roc_curve <- roc(test$condition, values)\n",
        "\n",
        "# Plot ROC curve\n",
        "plot(roc_curve,\n",
        "     main = \"ROC Curve for Heart Disease Prediction\",\n",
        "     xlab = \"False Positive Rate (1 - Specificity)\",\n",
        "     ylab = \"True Positive Rate (Sensitivity)\",\n",
        "     print.auc = TRUE)"
      ],
      "metadata": {
        "colab": {
          "base_uri": "https://localhost:8080/",
          "height": 508
        },
        "id": "LozdcLyTsbLd",
        "outputId": "a00a0530-a24b-461c-af48-a5bb1eef52f3"
      },
      "execution_count": null,
      "outputs": [
        {
          "output_type": "stream",
          "name": "stderr",
          "text": [
            "Setting levels: control = 0, case = 1\n",
            "\n",
            "Setting direction: controls < cases\n",
            "\n"
          ]
        },
        {
          "output_type": "display_data",
          "data": {
            "text/plain": [
              "Plot with title “ROC Curve for Heart Disease Prediction”"
            ],
            "image/png": "[encoded data removed]"
          },
          "metadata": {
            "image/png": {
              "width": 420,
              "height": 420
            }
          }
        }
      ]
    },
    {
      "cell_type": "markdown",
      "source": [
        "So, with an AUC value shown in the plot above, implies model is demonstrating good discrimination power in differentiating between the two classes (heart disease presence and absence)."
      ],
      "metadata": {
        "id": "XekBzz82uhNP"
      }
    },
    {
      "cell_type": "markdown",
      "source": [
        "**Assumptions and Evidence:**"
      ],
      "metadata": {
        "id": "oVvFMLxeu4ZA"
      }
    },
    {
      "cell_type": "markdown",
      "source": [
        "**Assumption :**\n",
        "\n",
        "Independence of Observations - This assumption assumes that observations are independent of each other. While we do not have specific evidence for independence, it is reasonable to assume that each patient's condition is independent of others."
      ],
      "metadata": {
        "id": "5dv-_Wa5u4y1"
      }
    },
    {
      "cell_type": "markdown",
      "source": [
        "**Assumption :**  Independent Variables are Linearly Associated with the Log Odds\n",
        "\n",
        "The plot show a roughly linear pattern and the assumption holds. scatter of points around this line is fairly uniform and does not demonstrate any clear non-linear patterns (e.g., curvature), the assumption is met.\n",
        "\n",
        "\n",
        "\n",
        "\n"
      ],
      "metadata": {
        "id": "KhWF4sfWu5gw"
      }
    },
    {
      "cell_type": "code",
      "source": [
        "# Predict the probabilities\n",
        "predicted_probs <- predict(glm_heart, type = \"response\")\n",
        "\n",
        "# Calculate the odds\n",
        "odds <- predicted_probs / (1 - predicted_probs)\n",
        "\n",
        "# Calculate the log odds\n",
        "log_odds_pred <- log(odds)\n",
        "\n",
        "# Now, let's plot the linear predictor values against these computed log odds\n",
        "plot(linear_pred, log_odds_pred, main = \"Linear Predictor vs. Log Odds\",\n",
        "     xlab = \"Linear Predictor\", ylab = \"Log Odds\", pch = 16)\n",
        "abline(lm(log_odds_pred ~ linear_pred), col = \"red\")  # Linear regression line\n"
      ],
      "metadata": {
        "colab": {
          "base_uri": "https://localhost:8080/",
          "height": 437
        },
        "id": "TFuJbZK-f6wI",
        "outputId": "c58f1f45-5a34-46d7-86cb-79fedb711bac"
      },
      "execution_count": null,
      "outputs": [
        {
          "output_type": "display_data",
          "data": {
            "text/plain": [
              "Plot with title “Linear Predictor vs. Log Odds”"
            ],
            "image/png": "[encoded data removed]"
          },
          "metadata": {
            "image/png": {
              "width": 420,
              "height": 420
            }
          }
        }
      ]
    },
    {
      "cell_type": "markdown",
      "source": [
        "**Assumption :** Dependent Variable is Binary\n",
        "\n",
        "yes the Dependent Variable is Binary"
      ],
      "metadata": {
        "id": "dfE4rU-Nu5-8"
      }
    },
    {
      "cell_type": "markdown",
      "source": [
        "**Assumption :** Little or No Multicollinearity Among Independent Variables\n",
        "\n",
        "\n",
        "check multicollinearity using the Variance Inflation Factor (VIF) for each predictor."
      ],
      "metadata": {
        "id": "6Oks1EcXu6lj"
      }
    },
    {
      "cell_type": "code",
      "source": [
        "install.packages(\"car\")"
      ],
      "metadata": {
        "colab": {
          "base_uri": "https://localhost:8080/"
        },
        "id": "9ZlK28CYwYG_",
        "outputId": "6fb86c68-bb33-404e-c0d3-3e3f9cc23049"
      },
      "execution_count": null,
      "outputs": [
        {
          "output_type": "stream",
          "name": "stderr",
          "text": [
            "Installing package into ‘/usr/local/lib/R/site-library’\n",
            "(as ‘lib’ is unspecified)\n",
            "\n"
          ]
        }
      ]
    },
    {
      "cell_type": "code",
      "source": [
        "library(car)\n",
        "print(vif(glm_heart))\n",
        "print(\"In general, VIF values less than 5 are considered to be low and suggest that multicollinearity is not a major concern.\")"
      ],
      "metadata": {
        "colab": {
          "base_uri": "https://localhost:8080/"
        },
        "id": "TMqszgpnwnI9",
        "outputId": "21a4e601-751a-4fae-bf80-05efdb14d9ba"
      },
      "execution_count": null,
      "outputs": [
        {
          "output_type": "stream",
          "name": "stdout",
          "text": [
            "             GVIF Df GVIF^(1/(2*Df))\n",
            "age      1.403707  1        1.184781\n",
            "cp       1.220970  1        1.104975\n",
            "trestbps 1.272512  1        1.128057\n",
            "chol     1.223183  1        1.105976\n",
            "thalach  1.458578  1        1.207716\n",
            "oldpeak  1.636069  1        1.279089\n",
            "ca       1.296432  1        1.138610\n",
            "sex      1.546202  1        1.243464\n",
            "fbs      1.185691  1        1.088894\n",
            "restecg  1.227010  2        1.052476\n",
            "exang    1.161055  1        1.077522\n",
            "slope    2.059884  2        1.198011\n",
            "thal     1.412224  2        1.090124\n",
            "[1] \"In general, VIF values less than 5 are considered to be low and suggest that multicollinearity is not a major concern.\"\n"
          ]
        }
      ]
    },
    {
      "cell_type": "markdown",
      "source": [
        "**Assumption :** Enough Samples\n",
        "\n",
        "We have enough cases with the least frequent outcome for each independent variable in the model.\n",
        "\n",
        "Rule of thumb: At least 10 cases for each predictor level which is statisfied"
      ],
      "metadata": {
        "id": "fedgmOCuu7J1"
      }
    },
    {
      "cell_type": "code",
      "source": [
        "# Rule of thumb: At least 10 cases for each predictor level\n",
        "table(data$condition, data$sex)\n",
        "table(data$condition, data$fbs)\n",
        "table(data$condition, data$restecg)\n",
        "table(data$condition, data$exang)\n",
        "table(data$condition, data$slope)\n",
        "table(data$condition, data$thal)"
      ],
      "metadata": {
        "colab": {
          "base_uri": "https://localhost:8080/",
          "height": 446
        },
        "id": "C272fipJxC42",
        "outputId": "e56f0ae4-2d2a-46a7-ea62-e616973a4636"
      },
      "execution_count": null,
      "outputs": [
        {
          "output_type": "display_data",
          "data": {
            "text/plain": [
              "   \n",
              "      0   1\n",
              "  0  71  89\n",
              "  1  25 112"
            ]
          },
          "metadata": {}
        },
        {
          "output_type": "display_data",
          "data": {
            "text/plain": [
              "   \n",
              "      0   1\n",
              "  0 137  23\n",
              "  1 117  20"
            ]
          },
          "metadata": {}
        },
        {
          "output_type": "display_data",
          "data": {
            "text/plain": [
              "   \n",
              "     0  1  2\n",
              "  0 92  1 67\n",
              "  1 55  3 79"
            ]
          },
          "metadata": {}
        },
        {
          "output_type": "display_data",
          "data": {
            "text/plain": [
              "   \n",
              "      0   1\n",
              "  0 137  23\n",
              "  1  63  74"
            ]
          },
          "metadata": {}
        },
        {
          "output_type": "display_data",
          "data": {
            "text/plain": [
              "   \n",
              "      0   1   2\n",
              "  0 103  48   9\n",
              "  1  36  89  12"
            ]
          },
          "metadata": {}
        },
        {
          "output_type": "display_data",
          "data": {
            "text/plain": [
              "   \n",
              "      0   1   2\n",
              "  0 127   6  27\n",
              "  1  37  12  88"
            ]
          },
          "metadata": {}
        }
      ]
    },
    {
      "cell_type": "markdown",
      "source": [
        "#6. State Your Conclusion (no more than 100 words)\n",
        "\n",
        "State the major conclusion(s) of your analysis in a way that a non-statistician can understand."
      ],
      "metadata": {
        "id": "78n3PQFyOA6D"
      }
    },
    {
      "cell_type": "markdown",
      "source": [
        "In our study of heart disease prediction using the Cleveland dataset, we employed statistical analysis with Logistic Regression in R software. The results indicated a high accuracy of 88.13% in predicting the presence or absence of heart disease. Specifically, the model could correctly identify those with the disease 92% of the time (sensitivity) and those without the disease 84% of the time (specificity). This suggests that our model can be a reliable tool for identifying individuals at risk of heart disease"
      ],
      "metadata": {
        "id": "dG9eHoT8O9nY"
      }
    }
  ],
  "metadata": {
    "kernelspec": {
      "display_name": "R",
      "language": "R",
      "name": "ir"
    },
    "language_info": {
      "codemirror_mode": "r",
      "file_extension": ".r",
      "mimetype": "text/x-r-source",
      "name": "R",
      "pygments_lexer": "r",
      "version": "3.6.3"
    },
    "papermill": {
      "default_parameters": {},
      "duration": 8.060708,
      "end_time": "2021-02-11T07:50:49.213880",
      "environment_variables": {},
      "exception": null,
      "input_path": "__notebook__.ipynb",
      "output_path": "__notebook__.ipynb",
      "parameters": {},
      "start_time": "2021-02-11T07:50:41.153172",
      "version": "2.2.2"
    },
    "colab": {
      "provenance": []
    }
  },
  "nbformat": 4,
  "nbformat_minor": 0
}